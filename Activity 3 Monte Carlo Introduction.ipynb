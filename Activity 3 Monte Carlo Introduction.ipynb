{
 "cells": [
  {
   "cell_type": "code",
   "execution_count": 34,
   "id": "d9f1df74-01a8-4d7f-9df7-c5af3c6863c6",
   "metadata": {},
   "outputs": [
    {
     "name": "stdout",
     "output_type": "stream",
     "text": [
      "Estimated Pi: 3.141276\n",
      "Error percentage: 0.010079396812674913 %\n"
     ]
    }
   ],
   "source": [
    "import random\n",
    "import math \n",
    "\n",
    "#Variable define el número de muestras \n",
    "num_sample = 1000000\n",
    "#Deifine el número de muestras que se encuentran dentro del círculo (como no hay ninguna muestra al empezar, esta es 0)\n",
    "inside_circle = 0\n",
    "\n",
    "#Repite lo que está dentro de la función el número de veces que se le especifica por la variable\n",
    "for i in range (num_sample):\n",
    "    x = random.uniform(-1,1) #Da un número decimal al azar entre el número -1 y 1 y se lo asigna al eje x  \n",
    "    y = random.uniform(-1,1) #Da un número decimal al azar entre el número -1 y 1 y se lo asigna al eje y\n",
    "    if x**2 + y**2 <= 1:     #Si el sample se encuentra dentro del círculo\n",
    "        inside_circle += 1   #Se agrega 1 al número de muestras dentro del círculo\n",
    "\n",
    "#Calcula el estimado de pi dependiendo del número de muestras dentro del círculo y el número de muestras escogidas al empezar\n",
    "pi_estimate = 4 * inside_circle / num_sample\n",
    "\n",
    "#Calcula el porcentaje de error entre pi y el estimado que genera el código\n",
    "error_percentage = abs(math.pi - pi_estimate) / math.pi * 100\n",
    "\n",
    "#Imprime el estimado de pi contando números decimales\n",
    "print(f\"Estimated Pi: {pi_estimate}\")\n",
    "#Imprime el porcentaje de error\n",
    "print(f\"Error percentage: {error_percentage} %\")"
   ]
  },
  {
   "cell_type": "code",
   "execution_count": null,
   "id": "9bd2082f-7e77-406f-a83f-2220b4477145",
   "metadata": {},
   "outputs": [],
   "source": []
  }
 ],
 "metadata": {
  "kernelspec": {
   "display_name": "Python [conda env:base] *",
   "language": "python",
   "name": "conda-base-py"
  },
  "language_info": {
   "codemirror_mode": {
    "name": "ipython",
    "version": 3
   },
   "file_extension": ".py",
   "mimetype": "text/x-python",
   "name": "python",
   "nbconvert_exporter": "python",
   "pygments_lexer": "ipython3",
   "version": "3.12.7"
  }
 },
 "nbformat": 4,
 "nbformat_minor": 5
}
