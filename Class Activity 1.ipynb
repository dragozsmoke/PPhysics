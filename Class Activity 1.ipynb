{
 "cells": [
  {
   "cell_type": "code",
   "execution_count": 5,
   "id": "81b28fa6-9e37-4c15-a890-30884748b0b2",
   "metadata": {},
   "outputs": [
    {
     "name": "stdout",
     "output_type": "stream",
     "text": [
      "🎯 Escoje un numero del 1 al 100!\n"
     ]
    },
    {
     "name": "stdin",
     "output_type": "stream",
     "text": [
      "Escribe tu intento:  69\n"
     ]
    },
    {
     "name": "stdout",
     "output_type": "stream",
     "text": [
      "🔄 Sigue intentando!\n"
     ]
    },
    {
     "name": "stdin",
     "output_type": "stream",
     "text": [
      "Escribe tu intento:  68\n"
     ]
    },
    {
     "name": "stdout",
     "output_type": "stream",
     "text": [
      "🔥 Caliente! Te estas acercando.\n"
     ]
    },
    {
     "name": "stdin",
     "output_type": "stream",
     "text": [
      "Escribe tu intento:  69\n"
     ]
    },
    {
     "name": "stdout",
     "output_type": "stream",
     "text": [
      "❄️ Frio! Te estas alejando.\n"
     ]
    },
    {
     "name": "stdin",
     "output_type": "stream",
     "text": [
      "Escribe tu intento:  65\n"
     ]
    },
    {
     "name": "stdout",
     "output_type": "stream",
     "text": [
      "🔥 Caliente! Te estas acercando.\n"
     ]
    },
    {
     "name": "stdin",
     "output_type": "stream",
     "text": [
      "Escribe tu intento:  60\n"
     ]
    },
    {
     "name": "stdout",
     "output_type": "stream",
     "text": [
      "🔥 Caliente! Te estas acercando.\n"
     ]
    },
    {
     "name": "stdin",
     "output_type": "stream",
     "text": [
      "Escribe tu intento:  55\n"
     ]
    },
    {
     "name": "stdout",
     "output_type": "stream",
     "text": [
      "🔥 Caliente! Te estas acercando.\n"
     ]
    },
    {
     "name": "stdin",
     "output_type": "stream",
     "text": [
      "Escribe tu intento:  50\n"
     ]
    },
    {
     "name": "stdout",
     "output_type": "stream",
     "text": [
      "❄️ Frio! Te estas alejando.\n"
     ]
    },
    {
     "name": "stdin",
     "output_type": "stream",
     "text": [
      "Escribe tu intento:  53\n"
     ]
    },
    {
     "name": "stdout",
     "output_type": "stream",
     "text": [
      "🎉 Felicidades! El numero correcto era 53!\n"
     ]
    }
   ],
   "source": [
    "import random\n",
    "\n",
    "def caliente_o_frio():\n",
    "    number_to_guess = random.randint(1, 100)  # Genera un numero al azar entre 1 y 100\n",
    "    previous_difference = None \n",
    "# Crea la variable que calcula la diferencia previa. Sirve en el codigo para comparar la nueva diferencia y la vieja \n",
    "# Esto permite saber si se esta acercando o alejando del numero escogido al azar\n",
    "\n",
    "    \n",
    "    print(\"🎯 Escoje un numero del 1 al 100!\") # Imprime el texto en la consola\n",
    "    \n",
    "\n",
    "    while True: # Esta funcion se asegura que el juego no se detenga antes de que el jugador adivine el numero\n",
    "        try: # Si no hay errores en el input que se le da al juego, ejecuta lo que esta dentro de la funcion. Si hay un error, salta hacia la funcion \"except\"\n",
    "            guess = int(input(\"Escribe tu intento: \")) #Permite dar un input\n",
    "\n",
    "            if guess < 1 or guess > 100: # Verifica si el numero que se le dio esta entre 1 y 100\n",
    "                print(\"⚠️ Ese numero no se encuentra entre 1 y 100! Por favor escoge otro numero:\")\n",
    "                continue # Se salta el resto del codigo dentro de la funcion try para que se ejecute correctamente \n",
    "\n",
    "            # Revisa si el jugador adivino el numero \n",
    "            if guess == number_to_guess:\n",
    "                print(f\"🎉 Felicidades! El numero correcto era {number_to_guess}!\")\n",
    "                break #Termina el loop para terminar el juego una vez que se adivine el numero \n",
    "\n",
    "            # Calcula la diferencia del numero actual\n",
    "            current_difference = abs(number_to_guess - guess)\n",
    "\n",
    "            if previous_difference is None: # Si no hay una diferencia, imprime lo que esta dentro de la funcion (se ejecuta siempre en el primer input porque no hay una diferencia entre el numero actual y el ultimo input que se le dio)\n",
    "                print(\"🔄 Sigue intentando!\")\n",
    "            else:\n",
    "                if current_difference < previous_difference: # Si la diferencia actual es menor que la primera significa que esta cerca de la respuesta\n",
    "                    print(\"🔥 Caliente! Te estas acercando.\")\n",
    "                else:\n",
    "                    print(\"❄️ Frio! Te estas alejando.\") # Si no, significa que esta alejandose\n",
    "\n",
    "            previous_difference = current_difference  # Se encarga de actualizar la differencia actual despues de cada intento \n",
    "\n",
    "        except ValueError: #Si existe un error en el input, ejecuta lo que esta dentro de la funcion\n",
    "            print(\"⚠️ Entrada incorrecta. Por favor escoja un numero valido (entero).\")\n",
    "\n",
    "# Ejecuta el juego\n",
    "caliente_o_frio()\n"
   ]
  },
  {
   "cell_type": "code",
   "execution_count": null,
   "id": "879a27ae-db24-4e82-b757-4a770e548de7",
   "metadata": {},
   "outputs": [],
   "source": []
  }
 ],
 "metadata": {
  "kernelspec": {
   "display_name": "Python [conda env:base] *",
   "language": "python",
   "name": "conda-base-py"
  },
  "language_info": {
   "codemirror_mode": {
    "name": "ipython",
    "version": 3
   },
   "file_extension": ".py",
   "mimetype": "text/x-python",
   "name": "python",
   "nbconvert_exporter": "python",
   "pygments_lexer": "ipython3",
   "version": "3.12.7"
  }
 },
 "nbformat": 4,
 "nbformat_minor": 5
}
